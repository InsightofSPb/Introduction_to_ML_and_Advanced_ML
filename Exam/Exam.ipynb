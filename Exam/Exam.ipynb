{
  "nbformat": 4,
  "nbformat_minor": 0,
  "metadata": {
    "colab": {
      "provenance": [],
      "authorship_tag": "ABX9TyMIylZw0UTm2dgCj7uYBTOQ",
      "include_colab_link": true
    },
    "kernelspec": {
      "name": "python3",
      "display_name": "Python 3"
    },
    "language_info": {
      "name": "python"
    }
  },
  "cells": [
    {
      "cell_type": "markdown",
      "metadata": {
        "id": "view-in-github",
        "colab_type": "text"
      },
      "source": [
        "<a href=\"https://colab.research.google.com/github/InsightofSPb/Introduction_to_ML_and_Advanced_ML/blob/main/Exam.ipynb\" target=\"_parent\"><img src=\"https://colab.research.google.com/assets/colab-badge.svg\" alt=\"Open In Colab\"/></a>"
      ]
    },
    {
      "cell_type": "code",
      "execution_count": null,
      "metadata": {
        "id": "boaLmHHCT99w"
      },
      "outputs": [],
      "source": [
        "from keras.datasets import mnist\n",
        "from sklearn.decomposition import PCA\n",
        "from sklearn.model_selection import train_test_split\n",
        "from sklearn.multiclass import OneVsRestClassifier\n",
        "from sklearn.ensemble import RandomForestClassifier\n",
        "from sklearn.linear_model import LogisticRegression\n",
        "from sklearn.tree import DecisionTreeClassifier\n",
        "from sklearn.metrics import confusion_matrix\n",
        "import pandas as pd"
      ]
    },
    {
      "cell_type": "code",
      "source": [
        "(X_train, y_train), (X_test, y_test) = mnist.load_data()\n",
        "X_train = X_train.reshape((X_train.shape[0], -1))\n",
        "print(X_train.shape)"
      ],
      "metadata": {
        "colab": {
          "base_uri": "https://localhost:8080/"
        },
        "id": "GVYyYEa8UDjP",
        "outputId": "b23e0f06-ae05-446d-ff90-38d18cebaeea"
      },
      "execution_count": null,
      "outputs": [
        {
          "output_type": "stream",
          "name": "stdout",
          "text": [
            "(60000, 784)\n"
          ]
        }
      ]
    },
    {
      "cell_type": "code",
      "source": [
        "pca = PCA(n_components=56, svd_solver='full')\n",
        "pca.fit(X_train)\n",
        "print(f'Доля объяснённой дисперсии = {sum(pca.explained_variance_ratio_)}')\n",
        "print(f'Веса = {pca.singular_values_}')"
      ],
      "metadata": {
        "colab": {
          "base_uri": "https://localhost:8080/"
        },
        "id": "O4y9bbpKURzb",
        "outputId": "fdfc31f3-3ff3-40cf-8e3c-11b686c26211"
      },
      "execution_count": null,
      "outputs": [
        {
          "output_type": "stream",
          "name": "stdout",
          "text": [
            "Доля объяснённой дисперсии = 0.8423701180014487\n",
            "Веса = [141291.00226882 120817.18859621 112650.9232813  105291.96728785\n",
            " 100077.18497144  94183.59653123  82040.1120459   77021.85990481\n",
            "  75376.92118237  69631.23338052  65869.14984994  64509.13672727\n",
            "  59410.04495956  58998.19511577  56985.71130705  55231.63286157\n",
            "  52198.76402532  51250.98798496  49419.42656348  48694.43400434\n",
            "  46831.35272599  45506.89087967  44289.55261136  43326.24911537\n",
            "  42628.89710531  41551.60556396  40884.34009496  40219.49683824\n",
            "  39140.33829805  37698.05953452  36793.24874955  36514.15838842\n",
            "  35208.23268526  34736.7098881   34242.84614725  33440.6771581\n",
            "  32255.80068128  31678.98295252  31469.54935573  31168.63163094\n",
            "  30652.22890721  30249.91893803  29340.84835833  28620.89683421\n",
            "  28141.04938787  27777.92102306  27288.76245885  26893.25016452\n",
            "  26448.48956348  25731.64254312  25617.1725649   25366.52910888\n",
            "  24675.01277668  24380.30037642  24175.92478978  23629.67881431]\n"
          ]
        }
      ]
    },
    {
      "cell_type": "code",
      "source": [
        "X_pca = pca.transform(X_train)\n",
        "X_train, X_test, Y_train, Y_test = train_test_split(X_pca, y_train, test_size=0.3, random_state=95)\n",
        "\n",
        "clf1 = OneVsRestClassifier(RandomForestClassifier(criterion='gini',min_samples_leaf=10,max_depth=20,\n",
        "                                                  n_estimators=10,random_state=95)).fit(X_train,Y_train)\n"
      ],
      "metadata": {
        "id": "mUCU9GRFV_zl"
      },
      "execution_count": null,
      "outputs": []
    },
    {
      "cell_type": "code",
      "source": [
        "pred1 = clf1.predict(X_test)\n",
        "cm1 = confusion_matrix(Y_test,pred1)\n",
        "print(cm1)"
      ],
      "metadata": {
        "colab": {
          "base_uri": "https://localhost:8080/"
        },
        "id": "7u3cVg-1YkoS",
        "outputId": "db285c69-e013-4fdd-a1d3-e5ac4c5df52e"
      },
      "execution_count": null,
      "outputs": [
        {
          "output_type": "stream",
          "name": "stdout",
          "text": [
            "[[1643    0    8    3    3    7   20    6    8    3]\n",
            " [   2 1989   13    6    3    7    5    7    6    4]\n",
            " [  11   12 1661   23   10    7   11   28   38    8]\n",
            " [   5    5   55 1600    4   59    4   13   33   18]\n",
            " [   8   11   16    0 1603    9   24    8   16   71]\n",
            " [  22    3   11   68   14 1409   26    4   29   14]\n",
            " [  25    1   11    2    4   28 1720    0   11    0]\n",
            " [   9   19   22    7   35    7    1 1794   12   49]\n",
            " [  21   11   23   60   10   59    9    7 1480   25]\n",
            " [  14   12   10   26   73   11    3   34   14 1627]]\n"
          ]
        }
      ]
    },
    {
      "cell_type": "code",
      "source": [
        "clf2 = OneVsRestClassifier(LogisticRegression(solver='lbfgs', random_state=95)).fit(X_train,Y_train)"
      ],
      "metadata": {
        "id": "rxw7fPjoZBj8"
      },
      "execution_count": null,
      "outputs": []
    },
    {
      "cell_type": "code",
      "source": [
        "pred2 = clf2.predict(X_test)\n",
        "cm2 = confusion_matrix(Y_test,pred2)\n",
        "print(cm2)"
      ],
      "metadata": {
        "colab": {
          "base_uri": "https://localhost:8080/"
        },
        "id": "-EtdlJ00ZPP4",
        "outputId": "c490f0e8-6421-4634-9c7f-dbfe3ae7ff35"
      },
      "execution_count": null,
      "outputs": [
        {
          "output_type": "stream",
          "name": "stdout",
          "text": [
            "[[1651    0    4    6    3   13    8    3   11    2]\n",
            " [   1 1984   10    5    2   12    3    3   18    4]\n",
            " [   9   24 1579   32   30   14   33   33   44   11]\n",
            " [   9   11   57 1574    1   68    6   15   34   21]\n",
            " [   3    8   16    1 1615    2   18   11   21   71]\n",
            " [  30   10   28   77   34 1303   32    8   57   21]\n",
            " [  11    6   11    1    9   31 1715    6   12    0]\n",
            " [   7   10   36    7   29    6    0 1799    8   53]\n",
            " [  18   44   36   47   12   72   12    9 1418   37]\n",
            " [  18   15   14   24   87   25    0   58   17 1566]]\n"
          ]
        }
      ]
    },
    {
      "cell_type": "code",
      "source": [
        "clf3 = OneVsRestClassifier(DecisionTreeClassifier(criterion='gini',min_samples_leaf=10,\n",
        "                                                  max_depth=20,random_state=95)).fit(X_train,Y_train)"
      ],
      "metadata": {
        "id": "yRtMQbEYZiW0"
      },
      "execution_count": null,
      "outputs": []
    },
    {
      "cell_type": "code",
      "source": [
        "pred3 = clf3.predict(X_test)\n",
        "cm3 = confusion_matrix(Y_test,pred3)\n",
        "print(cm3)"
      ],
      "metadata": {
        "colab": {
          "base_uri": "https://localhost:8080/"
        },
        "id": "Hzch_2fyZvhQ",
        "outputId": "2c8d839c-8e2e-42e8-a5e4-69558c35c630"
      },
      "execution_count": null,
      "outputs": [
        {
          "output_type": "stream",
          "name": "stdout",
          "text": [
            "[[1542    2   34   23    7   35   19    4   17   18]\n",
            " [   0 1960   30    4    5   13    6    6   10    8]\n",
            " [  27   13 1507   39   24   45   30   36   63   25]\n",
            " [  12    4   85 1460   13   85   14   27   73   23]\n",
            " [  18   14   41   10 1436   42   37   26   30  112]\n",
            " [  26   14   74   71   29 1221   31    9   90   35]\n",
            " [  31    6   37   20    8   52 1604   10   27    7]\n",
            " [   9   13   47   10   27   15    4 1725   31   74]\n",
            " [  20   17   99   85   17   72   10   22 1318   45]\n",
            " [  19   12   40   17  144   53    5   64   46 1424]]\n"
          ]
        }
      ]
    },
    {
      "cell_type": "code",
      "source": [
        "from google.colab import files\n",
        "uploaded = files.upload()"
      ],
      "metadata": {
        "colab": {
          "base_uri": "https://localhost:8080/",
          "height": 74
        },
        "id": "B_HAIv7LaGlr",
        "outputId": "321194ab-1429-49ed-d052-a43f51e7807e"
      },
      "execution_count": null,
      "outputs": [
        {
          "output_type": "display_data",
          "data": {
            "text/plain": [
              "<IPython.core.display.HTML object>"
            ],
            "text/html": [
              "\n",
              "     <input type=\"file\" id=\"files-a84e8176-dc57-4409-83c0-4553a526be8a\" name=\"files[]\" multiple disabled\n",
              "        style=\"border:none\" />\n",
              "     <output id=\"result-a84e8176-dc57-4409-83c0-4553a526be8a\">\n",
              "      Upload widget is only available when the cell has been executed in the\n",
              "      current browser session. Please rerun this cell to enable.\n",
              "      </output>\n",
              "      <script>// Copyright 2017 Google LLC\n",
              "//\n",
              "// Licensed under the Apache License, Version 2.0 (the \"License\");\n",
              "// you may not use this file except in compliance with the License.\n",
              "// You may obtain a copy of the License at\n",
              "//\n",
              "//      http://www.apache.org/licenses/LICENSE-2.0\n",
              "//\n",
              "// Unless required by applicable law or agreed to in writing, software\n",
              "// distributed under the License is distributed on an \"AS IS\" BASIS,\n",
              "// WITHOUT WARRANTIES OR CONDITIONS OF ANY KIND, either express or implied.\n",
              "// See the License for the specific language governing permissions and\n",
              "// limitations under the License.\n",
              "\n",
              "/**\n",
              " * @fileoverview Helpers for google.colab Python module.\n",
              " */\n",
              "(function(scope) {\n",
              "function span(text, styleAttributes = {}) {\n",
              "  const element = document.createElement('span');\n",
              "  element.textContent = text;\n",
              "  for (const key of Object.keys(styleAttributes)) {\n",
              "    element.style[key] = styleAttributes[key];\n",
              "  }\n",
              "  return element;\n",
              "}\n",
              "\n",
              "// Max number of bytes which will be uploaded at a time.\n",
              "const MAX_PAYLOAD_SIZE = 100 * 1024;\n",
              "\n",
              "function _uploadFiles(inputId, outputId) {\n",
              "  const steps = uploadFilesStep(inputId, outputId);\n",
              "  const outputElement = document.getElementById(outputId);\n",
              "  // Cache steps on the outputElement to make it available for the next call\n",
              "  // to uploadFilesContinue from Python.\n",
              "  outputElement.steps = steps;\n",
              "\n",
              "  return _uploadFilesContinue(outputId);\n",
              "}\n",
              "\n",
              "// This is roughly an async generator (not supported in the browser yet),\n",
              "// where there are multiple asynchronous steps and the Python side is going\n",
              "// to poll for completion of each step.\n",
              "// This uses a Promise to block the python side on completion of each step,\n",
              "// then passes the result of the previous step as the input to the next step.\n",
              "function _uploadFilesContinue(outputId) {\n",
              "  const outputElement = document.getElementById(outputId);\n",
              "  const steps = outputElement.steps;\n",
              "\n",
              "  const next = steps.next(outputElement.lastPromiseValue);\n",
              "  return Promise.resolve(next.value.promise).then((value) => {\n",
              "    // Cache the last promise value to make it available to the next\n",
              "    // step of the generator.\n",
              "    outputElement.lastPromiseValue = value;\n",
              "    return next.value.response;\n",
              "  });\n",
              "}\n",
              "\n",
              "/**\n",
              " * Generator function which is called between each async step of the upload\n",
              " * process.\n",
              " * @param {string} inputId Element ID of the input file picker element.\n",
              " * @param {string} outputId Element ID of the output display.\n",
              " * @return {!Iterable<!Object>} Iterable of next steps.\n",
              " */\n",
              "function* uploadFilesStep(inputId, outputId) {\n",
              "  const inputElement = document.getElementById(inputId);\n",
              "  inputElement.disabled = false;\n",
              "\n",
              "  const outputElement = document.getElementById(outputId);\n",
              "  outputElement.innerHTML = '';\n",
              "\n",
              "  const pickedPromise = new Promise((resolve) => {\n",
              "    inputElement.addEventListener('change', (e) => {\n",
              "      resolve(e.target.files);\n",
              "    });\n",
              "  });\n",
              "\n",
              "  const cancel = document.createElement('button');\n",
              "  inputElement.parentElement.appendChild(cancel);\n",
              "  cancel.textContent = 'Cancel upload';\n",
              "  const cancelPromise = new Promise((resolve) => {\n",
              "    cancel.onclick = () => {\n",
              "      resolve(null);\n",
              "    };\n",
              "  });\n",
              "\n",
              "  // Wait for the user to pick the files.\n",
              "  const files = yield {\n",
              "    promise: Promise.race([pickedPromise, cancelPromise]),\n",
              "    response: {\n",
              "      action: 'starting',\n",
              "    }\n",
              "  };\n",
              "\n",
              "  cancel.remove();\n",
              "\n",
              "  // Disable the input element since further picks are not allowed.\n",
              "  inputElement.disabled = true;\n",
              "\n",
              "  if (!files) {\n",
              "    return {\n",
              "      response: {\n",
              "        action: 'complete',\n",
              "      }\n",
              "    };\n",
              "  }\n",
              "\n",
              "  for (const file of files) {\n",
              "    const li = document.createElement('li');\n",
              "    li.append(span(file.name, {fontWeight: 'bold'}));\n",
              "    li.append(span(\n",
              "        `(${file.type || 'n/a'}) - ${file.size} bytes, ` +\n",
              "        `last modified: ${\n",
              "            file.lastModifiedDate ? file.lastModifiedDate.toLocaleDateString() :\n",
              "                                    'n/a'} - `));\n",
              "    const percent = span('0% done');\n",
              "    li.appendChild(percent);\n",
              "\n",
              "    outputElement.appendChild(li);\n",
              "\n",
              "    const fileDataPromise = new Promise((resolve) => {\n",
              "      const reader = new FileReader();\n",
              "      reader.onload = (e) => {\n",
              "        resolve(e.target.result);\n",
              "      };\n",
              "      reader.readAsArrayBuffer(file);\n",
              "    });\n",
              "    // Wait for the data to be ready.\n",
              "    let fileData = yield {\n",
              "      promise: fileDataPromise,\n",
              "      response: {\n",
              "        action: 'continue',\n",
              "      }\n",
              "    };\n",
              "\n",
              "    // Use a chunked sending to avoid message size limits. See b/62115660.\n",
              "    let position = 0;\n",
              "    do {\n",
              "      const length = Math.min(fileData.byteLength - position, MAX_PAYLOAD_SIZE);\n",
              "      const chunk = new Uint8Array(fileData, position, length);\n",
              "      position += length;\n",
              "\n",
              "      const base64 = btoa(String.fromCharCode.apply(null, chunk));\n",
              "      yield {\n",
              "        response: {\n",
              "          action: 'append',\n",
              "          file: file.name,\n",
              "          data: base64,\n",
              "        },\n",
              "      };\n",
              "\n",
              "      let percentDone = fileData.byteLength === 0 ?\n",
              "          100 :\n",
              "          Math.round((position / fileData.byteLength) * 100);\n",
              "      percent.textContent = `${percentDone}% done`;\n",
              "\n",
              "    } while (position < fileData.byteLength);\n",
              "  }\n",
              "\n",
              "  // All done.\n",
              "  yield {\n",
              "    response: {\n",
              "      action: 'complete',\n",
              "    }\n",
              "  };\n",
              "}\n",
              "\n",
              "scope.google = scope.google || {};\n",
              "scope.google.colab = scope.google.colab || {};\n",
              "scope.google.colab._files = {\n",
              "  _uploadFiles,\n",
              "  _uploadFilesContinue,\n",
              "};\n",
              "})(self);\n",
              "</script> "
            ]
          },
          "metadata": {}
        },
        {
          "output_type": "stream",
          "name": "stdout",
          "text": [
            "Saving pred_for_task.csv to pred_for_task.csv\n"
          ]
        }
      ]
    },
    {
      "cell_type": "code",
      "source": [
        "import io\n",
        "df2 = pd.read_csv(io.BytesIO(uploaded['pred_for_task.csv']), index_col='FileName')\n",
        "print(df2.head())"
      ],
      "metadata": {
        "colab": {
          "base_uri": "https://localhost:8080/"
        },
        "id": "_dAo7tQTaOyj",
        "outputId": "83b23af6-9bb6-4e24-f084-0d3e031e54ed"
      },
      "execution_count": null,
      "outputs": [
        {
          "output_type": "stream",
          "name": "stdout",
          "text": [
            "          Label  f0  f1  f2  f3  f4  f5  f6  f7  f8  ...  f774  f775  f776  \\\n",
            "FileName                                             ...                     \n",
            "file1         7   0   0   0   0   0   0   0   0   0  ...     0     0     0   \n",
            "file2         2   0   0   0   0   0   0   0   0   0  ...     0     0     0   \n",
            "file3         1   0   0   0   0   0   0   0   0   0  ...     0     0     0   \n",
            "file4         0   0   0   0   0   0   0   0   0   0  ...     0     0     0   \n",
            "file5         4   0   0   0   0   0   0   0   0   0  ...     0     0     0   \n",
            "\n",
            "          f777  f778  f779  f780  f781  f782  f783  \n",
            "FileName                                            \n",
            "file1        0     0     0     0     0     0     0  \n",
            "file2        0     0     0     0     0     0     0  \n",
            "file3        0     0     0     0     0     0     0  \n",
            "file4        0     0     0     0     0     0     0  \n",
            "file5        0     0     0     0     0     0     0  \n",
            "\n",
            "[5 rows x 785 columns]\n"
          ]
        }
      ]
    },
    {
      "cell_type": "code",
      "source": [
        "df2ans = df2.loc[:,'Label'].values\n",
        "df2tr = df2.drop(['Label'],axis=1).values\n"
      ],
      "metadata": {
        "id": "7IF-9S6Gapj_"
      },
      "execution_count": null,
      "outputs": []
    },
    {
      "cell_type": "code",
      "source": [
        "trans =  pca.transform(df2tr)\n",
        "print(trans)\n",
        "f3 = trans[2, :].reshape(1, -1)\n",
        "f1 = trans[0, :].reshape(1, -1)\n",
        "f23 = trans[22, :].reshape(1, -1)\n",
        "P1 = max(max(clf1.predict_proba(f3)))\n",
        "P2 = max(max(clf2.predict_proba(f1)))\n",
        "P3 = max(max(clf3.predict_proba(f23)))\n",
        "print(f'Вероятность отнесения файла 3 к назначенному классу = {round(P1,3)}')\n",
        "print(f'Вероятность отнесения файла 1 к назначенному классу = {round(P2,3)}')\n",
        "print(f'Вероятность отнесения файла 23 к назначенному классу = {round(P3,3)}')\n"
      ],
      "metadata": {
        "colab": {
          "base_uri": "https://localhost:8080/"
        },
        "id": "lVp7rt4bbCfd",
        "outputId": "3d8d5356-0e0a-4c70-f525-1c9677d547f7"
      },
      "execution_count": null,
      "outputs": [
        {
          "output_type": "stream",
          "name": "stdout",
          "text": [
            "[[-332.27116927  747.7987162   -42.84481899 ...  -99.62568422\n",
            "  -107.02936738    2.0453765 ]\n",
            " [  20.69696209 -955.58458273 -152.71551708 ... -128.24555526\n",
            "    50.14902696  102.75736684]\n",
            " [-946.02686793 -430.84318261   66.17633643 ...   -4.05070048\n",
            "    48.19941355  -61.12838724]\n",
            " ...\n",
            " [ 224.98822327  881.03842296 -180.92093117 ... -111.3587582\n",
            "     3.52949783  120.65467586]\n",
            " [1128.03797971 -354.99535818 -183.85326766 ... -144.86439037\n",
            "    99.92631283  -16.28537096]\n",
            " [-765.24057399 -154.13449942 -107.92304472 ... -100.21796955\n",
            "    16.17037171 -131.68621811]]\n",
            "Вероятность отнесения файла 3 к назначенному классу = 0.998\n",
            "Вероятность отнесения файла 1 к назначенному классу = 0.915\n",
            "Вероятность отнесения файла 23 к назначенному классу = 0.989\n"
          ]
        }
      ]
    }
  ]
}
